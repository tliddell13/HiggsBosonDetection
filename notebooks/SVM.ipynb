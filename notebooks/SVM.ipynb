{
 "cells": [
  {
   "cell_type": "code",
   "execution_count": 2,
   "metadata": {},
   "outputs": [
    {
     "name": "stdout",
     "output_type": "stream",
     "text": [
      "Training data shape: (56320, 28)\n"
     ]
    }
   ],
   "source": [
    "# imports\n",
    "import numpy as np\n",
    "import pandas as pd\n",
    "import matplotlib.pyplot as plt\n",
    "import joblib\n",
    "import time\n",
    "from sklearn.preprocessing import StandardScaler\n",
    "from sklearn.metrics import f1_score, accuracy_score, confusion_matrix\n",
    "from sklearn.model_selection import train_test_split\n",
    "from sklearn import svm\n",
    "\n",
    "# turn the training data into a pandas dataframe\n",
    "dataset = pd.read_csv('../dataset/HIGGS_train.csv')\n",
    "# make the df smaller\n",
    "# When implementing a SVM we have to make the data significantly smaller due to the time it takes to train a SVM.\n",
    "data_small = dataset.sample(frac=0.008, random_state=200)\n",
    "# split the training data into anoter validation set\n",
    "data_train = data_small.sample(frac=0.8, random_state=200)\n",
    "data_val = data_small.drop(data_train.index)\n",
    "\n",
    "# split the training data into features and labels\n",
    "X_train = data_train.iloc[:, 1:]\n",
    "y_train = data_train.iloc[:, 0]\n",
    "\n",
    "# split the validation data into features and labels\n",
    "X_val = data_val.iloc[:, 1:]\n",
    "y_val = data_val.iloc[:, 0]\n",
    "\n",
    "print('Training data shape:', X_train.shape)"
   ]
  },
  {
   "cell_type": "code",
   "execution_count": 2,
   "metadata": {},
   "outputs": [
    {
     "name": "stdout",
     "output_type": "stream",
     "text": [
      "F1 score: 0.7090334180668361\n",
      "Accuracy: 0.666690340909091\n",
      "Confusion matrix:\n",
      "[[3669 2992]\n",
      " [1701 5718]]\n"
     ]
    }
   ],
   "source": [
    "# create a support vector machine model with the default hyperparameters\n",
    "model = svm.SVC()\n",
    "# fit the model to the training data\n",
    "model.fit(X_train, y_train)\n",
    "# make predictions on the validation data\n",
    "y_pred = model.predict(X_val)\n",
    "# calculate the f1 score\n",
    "f1 = f1_score(y_val, y_pred)\n",
    "# calculate the accuracy\n",
    "acc = accuracy_score(y_val, y_pred)\n",
    "# calculate the confusion matrix\n",
    "cm = confusion_matrix(y_val, y_pred)\n",
    "# print the f1 score and accuracy\n",
    "print('F1 score:', f1)\n",
    "print('Accuracy:', acc)\n",
    "print('Confusion matrix:')\n",
    "print(cm)\n"
   ]
  },
  {
   "cell_type": "code",
   "execution_count": 3,
   "metadata": {},
   "outputs": [
    {
     "name": "stdout",
     "output_type": "stream",
     "text": [
      "Training data shape: (2816, 28)\n"
     ]
    }
   ],
   "source": [
    "# The above model took almost 5 minutes to train. Lets work with an even smaller amount when conducting hyperparameter tuning\n",
    "data_smaller = data_small.sample(frac=0.05, random_state=200)\n",
    "data_train = data_smaller.sample(frac=0.8, random_state=200)\n",
    "data_val = data_smaller.drop(data_train.index)\n",
    "# split the training data into features and labels\n",
    "X_train = data_train.iloc[:, 1:]\n",
    "y_train = data_train.iloc[:, 0]\n",
    "# Less training data\n",
    "print('Training data shape:', X_train.shape)"
   ]
  },
  {
   "cell_type": "code",
   "execution_count": 4,
   "metadata": {},
   "outputs": [
    {
     "name": "stdout",
     "output_type": "stream",
     "text": [
      "F1 score: 0.6623400936037442\n",
      "Accuracy: 0.6156960227272728\n"
     ]
    }
   ],
   "source": [
    "# How fast does the model train with a smaller dataset?\n",
    "model = svm.SVC()\n",
    "model.fit(X_train, y_train)\n",
    "y_pred = model.predict(X_val)\n",
    "# Test the model on the larger validation set\n",
    "print('F1 score:', f1_score(y_val, y_pred))\n",
    "print('Accuracy:', accuracy_score(y_val, y_pred))"
   ]
  },
  {
   "cell_type": "code",
   "execution_count": 4,
   "metadata": {},
   "outputs": [
    {
     "name": "stdout",
     "output_type": "stream",
     "text": [
      "F1 score: 0.6901716358900415\n",
      "Accuracy: 0.5269176136363637\n",
      "F1 score: 0.6901716358900415\n",
      "Accuracy: 0.5269176136363637\n",
      "F1 score: 0.6901716358900415\n",
      "Accuracy: 0.5269176136363637\n",
      "F1 score: 0.6901716358900415\n",
      "Accuracy: 0.5269176136363637\n",
      "F1 score: 0.6901716358900415\n",
      "Accuracy: 0.5269176136363637\n",
      "F1 score: 0.6901716358900415\n",
      "Accuracy: 0.5269176136363637\n",
      "F1 score: 0.6901716358900415\n",
      "Accuracy: 0.5269176136363637\n",
      "F1 score: 0.6901716358900415\n",
      "Accuracy: 0.5269176136363637\n",
      "F1 score: 0.6901716358900415\n",
      "Accuracy: 0.5269176136363637\n",
      "F1 score: 0.6903000697836706\n",
      "Accuracy: 0.5272017045454546\n",
      "F1 score: 0.6978250362493957\n",
      "Accuracy: 0.555965909090909\n",
      "F1 score: 0.6814373897707232\n",
      "Accuracy: 0.5894886363636364\n",
      "F1 score: 0.6707926684122828\n",
      "Accuracy: 0.6071022727272727\n",
      "F1 score: 0.6631207866905807\n",
      "Accuracy: 0.6131392045454546\n",
      "F1 score: 0.6553289431622019\n",
      "Accuracy: 0.6171164772727272\n",
      "F1 score: 0.6488390294808244\n",
      "Accuracy: 0.6176136363636363\n",
      "F1 score: 0.6389810269337932\n",
      "Accuracy: 0.6134943181818182\n",
      "F1 score: 0.6303266568087108\n",
      "Accuracy: 0.609375\n",
      "F1 score: 0.6208302194442558\n",
      "Accuracy: 0.6036221590909091\n",
      "F1 score: 0.6101046010801942\n",
      "Accuracy: 0.5949573863636364\n",
      "F1 score: 0.6061312667169604\n",
      "Accuracy: 0.5921164772727273\n",
      "F1 score: 0.6068833127656658\n",
      "Accuracy: 0.5927556818181818\n",
      "F1 score: 0.6068833127656658\n",
      "Accuracy: 0.5927556818181818\n",
      "F1 score: 0.6068833127656658\n",
      "Accuracy: 0.5927556818181818\n"
     ]
    },
    {
     "data": {
      "text/plain": [
       "\"\\n# reset c\\nc = .0001\\n# scores for sigmoid kernel\\nsigmoid_f1_scores = []\\nsigmoid_accuracy_scores = []\\n# loop through the c values for sigmoid kernel\\nwhile c < 1000:\\n    model = svm.SVC(kernel='sigmoid', C=c)\\n    model.fit(X_train, y_train)\\n    y_pred = model.predict(X_val)\\n    print('F1 score:', f1_score(y_val, y_pred))\\n    sigmoid_f1_scores.append(f1_score(y_val, y_pred))\\n    print('Accuracy:', accuracy_score(y_val, y_pred))\\n    sigmoid_accuracy_scores.append(accuracy_score(y_val, y_pred))\\n    c *= 2\\n\""
      ]
     },
     "execution_count": 4,
     "metadata": {},
     "output_type": "execute_result"
    }
   ],
   "source": [
    "# Make a loop to try different hyperparameters\n",
    "# C is the penalty parameter of the error term\n",
    "# increase c by 2x each time\n",
    "c = .0001\n",
    "# store the f1 scores and accuracy scores in a list with the corresponding c value\n",
    "# lets do the loop for all the kernels linear, poly, rbf, sigmoid\n",
    "# scores for linear kernel\n",
    "linear_f1_scores = []\n",
    "linear_accuracy_scores = []\n",
    "# same for all kernels\n",
    "c_values = []\n",
    "# loop through the c values for linear kernel\n",
    "while c < 1000:\n",
    "    model = svm.SVC(kernel='linear', C=c)\n",
    "    model.fit(X_train, y_train)\n",
    "    y_pred = model.predict(X_val)\n",
    "    print('F1 score:', f1_score(y_val, y_pred))\n",
    "    # store the f1 score\n",
    "    linear_f1_scores.append(f1_score(y_val, y_pred))\n",
    "    print('Accuracy:', accuracy_score(y_val, y_pred))\n",
    "    # store the accuracy score\n",
    "    linear_accuracy_scores.append(accuracy_score(y_val, y_pred))\n",
    "    c_values.append(c)\n",
    "    c *= 2\n",
    "# reset c\n",
    "c = .0001\n",
    "# scores for poly kernel\n",
    "poly_f1_scores = []\n",
    "poly_accuracy_scores = []\n",
    "# loop through the c values for poly kernel\n",
    "while c < 1000:\n",
    "    model = svm.SVC(kernel='poly', C=c)\n",
    "    model.fit(X_train, y_train)\n",
    "    y_pred = model.predict(X_val)\n",
    "    print('F1 score:', f1_score(y_val, y_pred))\n",
    "    poly_f1_scores.append(f1_score(y_val, y_pred))\n",
    "    print('Accuracy:', accuracy_score(y_val, y_pred))\n",
    "    poly_accuracy_scores.append(accuracy_score(y_val, y_pred))\n",
    "    c *= 2\n",
    "\n",
    "# reset c\n",
    "c = .0001\n",
    "# scores for rbf kernel\n",
    "rbf_f1_scores = []\n",
    "rbf_accuracy_scores = []\n",
    "# loop through the c values for rbf kernel\n",
    "while c < 1000:\n",
    "    model = svm.SVC(kernel='rbf', C=c)\n",
    "    model.fit(X_train, y_train)\n",
    "    y_pred = model.predict(X_val)\n",
    "    print('F1 score:', f1_score(y_val, y_pred))\n",
    "    rbf_f1_scores.append(f1_score(y_val, y_pred))\n",
    "    print('Accuracy:', accuracy_score(y_val, y_pred))\n",
    "    rbf_accuracy_scores.append(accuracy_score(y_val, y_pred))\n",
    "    c *= 2\n",
    "\n",
    "# reset c\n",
    "c = .0001\n",
    "# scores for sigmoid kernel\n",
    "sigmoid_f1_scores = []\n",
    "sigmoid_accuracy_scores = []\n",
    "# loop through the c values for sigmoid kernel\n",
    "while c < 1000:\n",
    "    model = svm.SVC(kernel='sigmoid', C=c)\n",
    "    model.fit(X_train, y_train)\n",
    "    y_pred = model.predict(X_val)\n",
    "    print('F1 score:', f1_score(y_val, y_pred))\n",
    "    sigmoid_f1_scores.append(f1_score(y_val, y_pred))\n",
    "    print('Accuracy:', accuracy_score(y_val, y_pred))\n",
    "    sigmoid_accuracy_scores.append(accuracy_score(y_val, y_pred))\n",
    "    c *= 2\n",
    "\n"
   ]
  },
  {
   "cell_type": "code",
   "execution_count": 13,
   "metadata": {},
   "outputs": [
    {
     "data": {
      "image/png": "[encoded data removed]",
      "text/plain": [
       "<Figure size 640x480 with 1 Axes>"
      ]
     },
     "metadata": {},
     "output_type": "display_data"
    },
    {
     "data": {
      "image/png": "[encoded data removed]",
      "text/plain": [
       "<Figure size 640x480 with 1 Axes>"
      ]
     },
     "metadata": {},
     "output_type": "display_data"
    }
   ],
   "source": [
    "# Plot the results\n",
    "# plot the f1 scores for each kernel\n",
    "# linear will be blue\n",
    "plt.plot(c_values, linear_f1_scores, label='Linear')\n",
    "# poly will be orange\n",
    "plt.plot(c_values, poly_f1_scores, label='Poly')\n",
    "# rbf will be green\n",
    "plt.plot(c_values, rbf_f1_scores, label='RBF')\n",
    "# sigmoid will be red\n",
    "plt.plot(c_values, sigmoid_f1_scores, label='Sigmoid')\n",
    "plt.xscale('log')\n",
    "plt.xlabel('C Value')\n",
    "plt.ylabel('F1 Score')\n",
    "plt.legend()\n",
    "plt.title('F1 Score for Different Kernels')\n",
    "plt.show()\n",
    "\n",
    "# plot the accuracy scores for each kernel\n",
    "plt.plot(c_values, linear_accuracy_scores, label='Linear')\n",
    "plt.plot(c_values, poly_accuracy_scores, label='Poly')\n",
    "plt.plot(c_values, rbf_accuracy_scores, label='RBF')\n",
    "plt.plot(c_values, sigmoid_accuracy_scores, label='Sigmoid')\n",
    "plt.xscale('log')\n",
    "plt.xlabel('C Value')\n",
    "plt.ylabel('Accuracy')\n",
    "plt.legend()\n",
    "plt.title('Accuracy for Different Kernels')\n",
    "plt.show()"
   ]
  },
  {
   "cell_type": "code",
   "execution_count": 7,
   "metadata": {},
   "outputs": [
    {
     "name": "stdout",
     "output_type": "stream",
     "text": [
      "F1 score: 0.6747962713255555\n",
      "Accuracy: 0.6060369318181819\n",
      "F1 score: 0.6701795233135225\n",
      "Accuracy: 0.6176846590909091\n",
      "F1 score: 0.6590261429810432\n",
      "Accuracy: 0.6090909090909091\n",
      "F1 score: 0.6477166239770101\n",
      "Accuracy: 0.5995028409090909\n",
      "F1 score: 0.6441272226396194\n",
      "Accuracy: 0.5963068181818182\n"
     ]
    }
   ],
   "source": [
    "# 3 is the c value we will continue with\n",
    "# Lets try different degrees\n",
    "# Find the bes c value for the poly kernel\n",
    "c_index = np.argmax(poly_accuracy_scores)\n",
    "c = c_values[c_index]\n",
    "for deg in range(1, 6):\n",
    "    model = svm.SVC(kernel='poly', C=c, degree=deg)\n",
    "    model.fit(X_train, y_train)\n",
    "    y_pred = model.predict(X_val)\n",
    "    print('F1 score:', f1_score(y_val, y_pred))\n",
    "    print('Accuracy:', accuracy_score(y_val, y_pred))\n",
    "\n",
    "# Still much lower than the linear kernel, but the degree 2 is the best\n"
   ]
  },
  {
   "cell_type": "code",
   "execution_count": 8,
   "metadata": {},
   "outputs": [
    {
     "name": "stdout",
     "output_type": "stream",
     "text": [
      "Gamma auto\n",
      "F1 score: 0.6725954802948163\n",
      "Accuracy: 0.6182528409090909\n",
      "Gamma auto\n",
      "F1 score: 0.6509814116729495\n",
      "Accuracy: 0.6186079545454546\n",
      "Gamma 2\n",
      "F1 score: 0.6539716359278247\n",
      "Accuracy: 0.6308948863636363\n",
      "Gamma 2\n",
      "F1 score: 0.6901716358900415\n",
      "Accuracy: 0.5269176136363637\n"
     ]
    }
   ],
   "source": [
    "# Poly and rbf are close to linear, lets try some different gamma values\n",
    "# Gamma is the kernel coefficient for rbf, poly, and sigmoid. This affects how much each training example influences the decision boundary\n",
    "# First lets see with the auto gamma value\n",
    "# Poly kernel\n",
    "c_index = np.argmax(poly_accuracy_scores)\n",
    "c = c_values[c_index]\n",
    "model = svm.SVC(kernel='poly', C=c, degree=2, gamma='auto')\n",
    "model.fit(X_train, y_train)\n",
    "y_pred = model.predict(X_val)\n",
    "print('Gamma auto')\n",
    "print('F1 score:', f1_score(y_val, y_pred))\n",
    "print('Accuracy:', accuracy_score(y_val, y_pred))\n",
    "\n",
    "# Rbf kernel\n",
    "c_index = np.argmax(rbf_accuracy_scores)\n",
    "c = c_values[c_index]\n",
    "model = svm.SVC(kernel='rbf', C=c, gamma='auto')\n",
    "model.fit(X_train, y_train)\n",
    "y_pred = model.predict(X_val)\n",
    "print('Gamma auto')\n",
    "print('F1 score:', f1_score(y_val, y_pred))\n",
    "print('Accuracy:', accuracy_score(y_val, y_pred))\n",
    "\n",
    "# Lets try some numbers\n",
    "# Poly kernel\n",
    "c_index = np.argmax(poly_accuracy_scores)\n",
    "c = c_values[c_index]\n",
    "model = svm.SVC(kernel='poly', C=c, degree=2, gamma=10)\n",
    "model.fit(X_train, y_train)\n",
    "y_pred = model.predict(X_val)\n",
    "print('Gamma 2')\n",
    "print('F1 score:', f1_score(y_val, y_pred))\n",
    "print('Accuracy:', accuracy_score(y_val, y_pred))\n",
    "\n",
    "# Rbf kernel\n",
    "c_index = np.argmax(rbf_accuracy_scores)\n",
    "c = c_values[c_index]\n",
    "model = svm.SVC(kernel='rbf', C=c, gamma=2)\n",
    "model.fit(X_train, y_train)\n",
    "y_pred = model.predict(X_val)\n",
    "print('Gamma 2')\n",
    "print('F1 score:', f1_score(y_val, y_pred))\n",
    "print('Accuracy:', accuracy_score(y_val, y_pred))\n",
    "\n"
   ]
  },
  {
   "cell_type": "code",
   "execution_count": 9,
   "metadata": {},
   "outputs": [
    {
     "name": "stdout",
     "output_type": "stream",
     "text": [
      "F1 score: 0.6838168217478563\n",
      "Accuracy: 0.6307528409090909\n",
      "F1 score: 0.6840216531841129\n",
      "Accuracy: 0.6310369318181818\n",
      "F1 score: 0.6836598126292737\n",
      "Accuracy: 0.6306818181818182\n",
      "F1 score: 0.683900006082355\n",
      "Accuracy: 0.6308948863636363\n"
     ]
    }
   ],
   "source": [
    "# The poly kernel is better. Lets see if we can improve it anymore by changing the coef0 value\n",
    "# coef0 is the independent term in the kernel function\n",
    "c_index = np.argmax(poly_accuracy_scores)\n",
    "c = c_values[c_index]\n",
    "for coef in range(1, 5):\n",
    "    model = svm.SVC(kernel='poly', C=c, degree=1, gamma=10, coef0=coef * 3)\n",
    "    model.fit(X_train, y_train)\n",
    "    y_pred = model.predict(X_val)\n",
    "    print('F1 score:', f1_score(y_val, y_pred))\n",
    "    print('Accuracy:', accuracy_score(y_val, y_pred))\n",
    "\n",
    "# The effect is small. "
   ]
  },
  {
   "cell_type": "code",
   "execution_count": 10,
   "metadata": {},
   "outputs": [
    {
     "name": "stdout",
     "output_type": "stream",
     "text": [
      "26.2144\n",
      "Linear Kernel\n",
      "F1 score: 0.6861970461314045\n",
      "Accuracy: 0.6333096590909091\n"
     ]
    }
   ],
   "source": [
    "# It appears so far that the linear kernel is the best. \n",
    "c_index = np.argmax(linear_accuracy_scores)\n",
    "c = c_values[c_index]\n",
    "print(c)\n",
    "model = svm.SVC(kernel='linear', C=c)\n",
    "model.fit(X_train, y_train)\n",
    "y_pred = model.predict(X_val)\n",
    "print('Linear Kernel')\n",
    "print('F1 score:', f1_score(y_val, y_pred))\n",
    "print('Accuracy:', accuracy_score(y_val, y_pred))\n"
   ]
  },
  {
   "cell_type": "code",
   "execution_count": 11,
   "metadata": {},
   "outputs": [
    {
     "name": "stdout",
     "output_type": "stream",
     "text": [
      "Training data shape: (56320, 28)\n",
      "Linear Kernel\n",
      "F1 score: 0.7019610152523409\n",
      "Accuracy: 0.6405539772727272\n"
     ]
    }
   ],
   "source": [
    "# Lets try training the linear kernel trained on more data, it may not help because\n",
    "# SVMs perform well with smaller datasets and less training data\n",
    "# Get the training and testing from the original small dataset with 56k rows\n",
    "X = data_small.iloc[:, 1:]\n",
    "y = data_small.iloc[:, 0]\n",
    "# split the data into training and validation\n",
    "X_train, X_val, y_train, y_val = train_test_split(X, y, test_size=0.2, random_state=200)\n",
    "print('Training data shape:', X_train.shape)\n",
    "c = 26\n",
    "model = svm.SVC(kernel='linear', C=c)\n",
    "model.fit(X_train, y_train)\n",
    "y_pred = model.predict(X_val)\n",
    "print('Linear Kernel')  \n",
    "print('F1 score:', f1_score(y_val, y_pred))\n",
    "print('Accuracy:', accuracy_score(y_val, y_pred))"
   ]
  },
  {
   "cell_type": "code",
   "execution_count": 12,
   "metadata": {},
   "outputs": [
    {
     "name": "stdout",
     "output_type": "stream",
     "text": [
      "(52800, 29)\n"
     ]
    }
   ],
   "source": [
    "# I found in the data manip file that scaling the data improved the accuracy. We will also train on the cyclic angle features.\n",
    "# Reload the dataset and change the data. \n",
    "dataset = pd.read_csv('../dataset/HIGGS_train.csv')\n",
    "dataset = dataset.sample(frac=0.006)\n",
    "print(dataset.shape)\n",
    "angular_feats = ['lepton phi', 'missing energy phi', 'jet 1 phi', 'jet 2 phi', 'jet 3 phi', 'jet 4 phi']\n",
    "X = dataset.iloc[:, 1:]\n",
    "y = dataset.iloc[:, 0]\n",
    "\n",
    "# Make it cyclical! (sin and cos)\n",
    "for feat in angular_feats:\n",
    "    sin = feat + '_sin'\n",
    "    cos = feat + '_cos'\n",
    "    X = X.assign(**{sin: np.sin(X[feat] * np.pi / 180)})\n",
    "    X = X.assign(**{cos: np.cos(X[feat] * np.pi / 180)})\n",
    "\n",
    "# Drop the original angle features\n",
    "X = X.drop(angular_feats, axis=1)\n",
    "\n",
    "# Use the scaler to scale the data\n",
    "scaler = StandardScaler()\n",
    "X = scaler.fit_transform(X)\n",
    "# Split the data into training and testing data\n",
    "X_train, X_test, y_train, y_test = train_test_split(X, y, test_size=0.2)\n"
   ]
  },
  {
   "cell_type": "code",
   "execution_count": 13,
   "metadata": {},
   "outputs": [
    {
     "name": "stdout",
     "output_type": "stream",
     "text": [
      "Training time: 164.41635990142822\n",
      "Linear Kernel with scaled data and cyclical features\n",
      "F1 score: 0.709847646608222\n",
      "Accuracy: 0.6771780303030303\n"
     ]
    },
    {
     "data": {
      "text/plain": [
       "['../models/svm_model.pkl']"
      ]
     },
     "execution_count": 13,
     "metadata": {},
     "output_type": "execute_result"
    }
   ],
   "source": [
    "# Train the model with the best hyperparameters\n",
    "model = svm.SVC(kernel='rbf', C=3.5)\n",
    "# time the training\n",
    "start = time.time()\n",
    "model.fit(X_train, y_train)\n",
    "end = time.time()\n",
    "print('Training time:', end - start)\n",
    "y_pred = model.predict(X_test)\n",
    "print('Linear Kernel with scaled data and cyclical features')\n",
    "print('F1 score:', f1_score(y_test, y_pred))\n",
    "print('Accuracy:', accuracy_score(y_test, y_pred))\n",
    "# Save the model\n",
    "joblib.dump(model, '../models/svm_model.pkl')"
   ]
  },
  {
   "cell_type": "code",
   "execution_count": null,
   "metadata": {},
   "outputs": [],
   "source": []
  }
 ],
 "metadata": {
  "kernelspec": {
   "display_name": "neco",
   "language": "python",
   "name": "python3"
  },
  "language_info": {
   "codemirror_mode": {
    "name": "ipython",
    "version": 3
   },
   "file_extension": ".py",
   "mimetype": "text/x-python",
   "name": "python",
   "nbconvert_exporter": "python",
   "pygments_lexer": "ipython3",
   "version": "3.8.19"
  }
 },
 "nbformat": 4,
 "nbformat_minor": 2
}
